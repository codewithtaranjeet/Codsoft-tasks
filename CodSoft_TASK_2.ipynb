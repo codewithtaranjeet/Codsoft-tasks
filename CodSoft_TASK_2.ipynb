{
 "cells": [
  {
   "cell_type": "markdown",
   "id": "ec830077",
   "metadata": {},
   "source": [
    "# Task2: MOVIE RATING PREDICTION WITH PYTHON\n",
    "####  By TARANJEET KAUR\n",
    "####  FEB Batch, Domain: Data Science\n",
    "####  Objective: To Build a model that predicts the rating of a movie based on features like genre, director, and actors. "
   ]
  },
  {
   "cell_type": "markdown",
   "id": "c0ece5ea",
   "metadata": {},
   "source": [
    "# Importing Necessary Libraries"
   ]
  },
  {
   "cell_type": "code",
   "execution_count": 2,
   "id": "8e105d6c",
   "metadata": {},
   "outputs": [],
   "source": [
    "import numpy as np\n",
    "import pandas as pd\n",
    "import matplotlib.pyplot as plt\n",
    "import seaborn as sns"
   ]
  },
  {
   "cell_type": "code",
   "execution_count": 3,
   "id": "8b098b9c",
   "metadata": {},
   "outputs": [],
   "source": [
    "df = pd.read_csv(\"C:/Users/Taranjeet Kaur/Downloads/IMDb Movies India.csv/IMDb_Movies_India.csv\", encoding='ISO-8859-1')"
   ]
  },
  {
   "cell_type": "code",
   "execution_count": 4,
   "id": "fe7ab984",
   "metadata": {
    "scrolled": false
   },
   "outputs": [
    {
     "data": {
      "text/html": [
       "<div>\n",
       "<style scoped>\n",
       "    .dataframe tbody tr th:only-of-type {\n",
       "        vertical-align: middle;\n",
       "    }\n",
       "\n",
       "    .dataframe tbody tr th {\n",
       "        vertical-align: top;\n",
       "    }\n",
       "\n",
       "    .dataframe thead th {\n",
       "        text-align: right;\n",
       "    }\n",
       "</style>\n",
       "<table border=\"1\" class=\"dataframe\">\n",
       "  <thead>\n",
       "    <tr style=\"text-align: right;\">\n",
       "      <th></th>\n",
       "      <th>Name</th>\n",
       "      <th>Year</th>\n",
       "      <th>Years</th>\n",
       "      <th>Duration</th>\n",
       "      <th>Genre</th>\n",
       "      <th>Rating</th>\n",
       "      <th>Votes</th>\n",
       "      <th>Director</th>\n",
       "      <th>Actor 1</th>\n",
       "      <th>Actor 2</th>\n",
       "      <th>Actor 3</th>\n",
       "    </tr>\n",
       "  </thead>\n",
       "  <tbody>\n",
       "    <tr>\n",
       "      <th>0</th>\n",
       "      <td></td>\n",
       "      <td>NaN</td>\n",
       "      <td>NaN</td>\n",
       "      <td>NaN</td>\n",
       "      <td>Drama</td>\n",
       "      <td>NaN</td>\n",
       "      <td>NaN</td>\n",
       "      <td>J.S. Randhawa</td>\n",
       "      <td>Manmauji</td>\n",
       "      <td>Birbal</td>\n",
       "      <td>Rajendra Bhatia</td>\n",
       "    </tr>\n",
       "    <tr>\n",
       "      <th>1</th>\n",
       "      <td>#Gadhvi (He thought he was Gandhi)</td>\n",
       "      <td>2019.0</td>\n",
       "      <td>-2019.0</td>\n",
       "      <td>109 min</td>\n",
       "      <td>Drama</td>\n",
       "      <td>7.0</td>\n",
       "      <td>8</td>\n",
       "      <td>Gaurav Bakshi</td>\n",
       "      <td>Rasika Dugal</td>\n",
       "      <td>Vivek Ghamande</td>\n",
       "      <td>Arvind Jangid</td>\n",
       "    </tr>\n",
       "    <tr>\n",
       "      <th>2</th>\n",
       "      <td>#Homecoming</td>\n",
       "      <td>2021.0</td>\n",
       "      <td>-2021.0</td>\n",
       "      <td>90 min</td>\n",
       "      <td>Drama, Musical</td>\n",
       "      <td>NaN</td>\n",
       "      <td>NaN</td>\n",
       "      <td>Soumyajit Majumdar</td>\n",
       "      <td>Sayani Gupta</td>\n",
       "      <td>Plabita Borthakur</td>\n",
       "      <td>Roy Angana</td>\n",
       "    </tr>\n",
       "    <tr>\n",
       "      <th>3</th>\n",
       "      <td>#Yaaram</td>\n",
       "      <td>2019.0</td>\n",
       "      <td>-2019.0</td>\n",
       "      <td>110 min</td>\n",
       "      <td>Comedy, Romance</td>\n",
       "      <td>4.4</td>\n",
       "      <td>35</td>\n",
       "      <td>Ovais Khan</td>\n",
       "      <td>Prateik</td>\n",
       "      <td>Ishita Raj</td>\n",
       "      <td>Siddhant Kapoor</td>\n",
       "    </tr>\n",
       "    <tr>\n",
       "      <th>4</th>\n",
       "      <td>...And Once Again</td>\n",
       "      <td>2010.0</td>\n",
       "      <td>-2010.0</td>\n",
       "      <td>105 min</td>\n",
       "      <td>Drama</td>\n",
       "      <td>NaN</td>\n",
       "      <td>NaN</td>\n",
       "      <td>Amol Palekar</td>\n",
       "      <td>Rajat Kapoor</td>\n",
       "      <td>Rituparna Sengupta</td>\n",
       "      <td>Antara Mali</td>\n",
       "    </tr>\n",
       "    <tr>\n",
       "      <th>5</th>\n",
       "      <td>...Aur Pyaar Ho Gaya</td>\n",
       "      <td>1997.0</td>\n",
       "      <td>-1997.0</td>\n",
       "      <td>147 min</td>\n",
       "      <td>Comedy, Drama, Musical</td>\n",
       "      <td>4.7</td>\n",
       "      <td>827</td>\n",
       "      <td>Rahul Rawail</td>\n",
       "      <td>Bobby Deol</td>\n",
       "      <td>Aishwarya Rai Bachchan</td>\n",
       "      <td>Shammi Kapoor</td>\n",
       "    </tr>\n",
       "    <tr>\n",
       "      <th>6</th>\n",
       "      <td>...Yahaan</td>\n",
       "      <td>2005.0</td>\n",
       "      <td>-2005.0</td>\n",
       "      <td>142 min</td>\n",
       "      <td>Drama, Romance, War</td>\n",
       "      <td>7.4</td>\n",
       "      <td>1,086</td>\n",
       "      <td>Shoojit Sircar</td>\n",
       "      <td>Jimmy Sheirgill</td>\n",
       "      <td>Minissha Lamba</td>\n",
       "      <td>Yashpal Sharma</td>\n",
       "    </tr>\n",
       "  </tbody>\n",
       "</table>\n",
       "</div>"
      ],
      "text/plain": [
       "                                 Name    Year   Years Duration  \\\n",
       "0                                         NaN     NaN      NaN   \n",
       "1  #Gadhvi (He thought he was Gandhi)  2019.0 -2019.0  109 min   \n",
       "2                         #Homecoming  2021.0 -2021.0   90 min   \n",
       "3                             #Yaaram  2019.0 -2019.0  110 min   \n",
       "4                   ...And Once Again  2010.0 -2010.0  105 min   \n",
       "5                ...Aur Pyaar Ho Gaya  1997.0 -1997.0  147 min   \n",
       "6                           ...Yahaan  2005.0 -2005.0  142 min   \n",
       "\n",
       "                    Genre  Rating  Votes            Director          Actor 1  \\\n",
       "0                   Drama     NaN    NaN       J.S. Randhawa         Manmauji   \n",
       "1                   Drama     7.0      8       Gaurav Bakshi     Rasika Dugal   \n",
       "2          Drama, Musical     NaN    NaN  Soumyajit Majumdar     Sayani Gupta   \n",
       "3         Comedy, Romance     4.4     35          Ovais Khan          Prateik   \n",
       "4                   Drama     NaN    NaN        Amol Palekar     Rajat Kapoor   \n",
       "5  Comedy, Drama, Musical     4.7    827        Rahul Rawail       Bobby Deol   \n",
       "6     Drama, Romance, War     7.4  1,086      Shoojit Sircar  Jimmy Sheirgill   \n",
       "\n",
       "                  Actor 2          Actor 3  \n",
       "0                  Birbal  Rajendra Bhatia  \n",
       "1          Vivek Ghamande    Arvind Jangid  \n",
       "2       Plabita Borthakur       Roy Angana  \n",
       "3              Ishita Raj  Siddhant Kapoor  \n",
       "4      Rituparna Sengupta      Antara Mali  \n",
       "5  Aishwarya Rai Bachchan    Shammi Kapoor  \n",
       "6          Minissha Lamba   Yashpal Sharma  "
      ]
     },
     "execution_count": 4,
     "metadata": {},
     "output_type": "execute_result"
    }
   ],
   "source": [
    "df.head(7)"
   ]
  },
  {
   "cell_type": "code",
   "execution_count": 5,
   "id": "d7aab8ac",
   "metadata": {},
   "outputs": [],
   "source": [
    "df.drop(['Years'], axis = 1, inplace = True)"
   ]
  },
  {
   "cell_type": "code",
   "execution_count": 6,
   "id": "7d542b41",
   "metadata": {},
   "outputs": [
    {
     "data": {
      "text/html": [
       "<div>\n",
       "<style scoped>\n",
       "    .dataframe tbody tr th:only-of-type {\n",
       "        vertical-align: middle;\n",
       "    }\n",
       "\n",
       "    .dataframe tbody tr th {\n",
       "        vertical-align: top;\n",
       "    }\n",
       "\n",
       "    .dataframe thead th {\n",
       "        text-align: right;\n",
       "    }\n",
       "</style>\n",
       "<table border=\"1\" class=\"dataframe\">\n",
       "  <thead>\n",
       "    <tr style=\"text-align: right;\">\n",
       "      <th></th>\n",
       "      <th>Name</th>\n",
       "      <th>Year</th>\n",
       "      <th>Duration</th>\n",
       "      <th>Genre</th>\n",
       "      <th>Rating</th>\n",
       "      <th>Votes</th>\n",
       "      <th>Director</th>\n",
       "      <th>Actor 1</th>\n",
       "      <th>Actor 2</th>\n",
       "      <th>Actor 3</th>\n",
       "    </tr>\n",
       "  </thead>\n",
       "  <tbody>\n",
       "    <tr>\n",
       "      <th>0</th>\n",
       "      <td></td>\n",
       "      <td>NaN</td>\n",
       "      <td>NaN</td>\n",
       "      <td>Drama</td>\n",
       "      <td>NaN</td>\n",
       "      <td>NaN</td>\n",
       "      <td>J.S. Randhawa</td>\n",
       "      <td>Manmauji</td>\n",
       "      <td>Birbal</td>\n",
       "      <td>Rajendra Bhatia</td>\n",
       "    </tr>\n",
       "    <tr>\n",
       "      <th>1</th>\n",
       "      <td>#Gadhvi (He thought he was Gandhi)</td>\n",
       "      <td>2019.0</td>\n",
       "      <td>109 min</td>\n",
       "      <td>Drama</td>\n",
       "      <td>7.0</td>\n",
       "      <td>8</td>\n",
       "      <td>Gaurav Bakshi</td>\n",
       "      <td>Rasika Dugal</td>\n",
       "      <td>Vivek Ghamande</td>\n",
       "      <td>Arvind Jangid</td>\n",
       "    </tr>\n",
       "    <tr>\n",
       "      <th>2</th>\n",
       "      <td>#Homecoming</td>\n",
       "      <td>2021.0</td>\n",
       "      <td>90 min</td>\n",
       "      <td>Drama, Musical</td>\n",
       "      <td>NaN</td>\n",
       "      <td>NaN</td>\n",
       "      <td>Soumyajit Majumdar</td>\n",
       "      <td>Sayani Gupta</td>\n",
       "      <td>Plabita Borthakur</td>\n",
       "      <td>Roy Angana</td>\n",
       "    </tr>\n",
       "    <tr>\n",
       "      <th>3</th>\n",
       "      <td>#Yaaram</td>\n",
       "      <td>2019.0</td>\n",
       "      <td>110 min</td>\n",
       "      <td>Comedy, Romance</td>\n",
       "      <td>4.4</td>\n",
       "      <td>35</td>\n",
       "      <td>Ovais Khan</td>\n",
       "      <td>Prateik</td>\n",
       "      <td>Ishita Raj</td>\n",
       "      <td>Siddhant Kapoor</td>\n",
       "    </tr>\n",
       "    <tr>\n",
       "      <th>4</th>\n",
       "      <td>...And Once Again</td>\n",
       "      <td>2010.0</td>\n",
       "      <td>105 min</td>\n",
       "      <td>Drama</td>\n",
       "      <td>NaN</td>\n",
       "      <td>NaN</td>\n",
       "      <td>Amol Palekar</td>\n",
       "      <td>Rajat Kapoor</td>\n",
       "      <td>Rituparna Sengupta</td>\n",
       "      <td>Antara Mali</td>\n",
       "    </tr>\n",
       "    <tr>\n",
       "      <th>...</th>\n",
       "      <td>...</td>\n",
       "      <td>...</td>\n",
       "      <td>...</td>\n",
       "      <td>...</td>\n",
       "      <td>...</td>\n",
       "      <td>...</td>\n",
       "      <td>...</td>\n",
       "      <td>...</td>\n",
       "      <td>...</td>\n",
       "      <td>...</td>\n",
       "    </tr>\n",
       "    <tr>\n",
       "      <th>15504</th>\n",
       "      <td>Zulm Ko Jala Doonga</td>\n",
       "      <td>1988.0</td>\n",
       "      <td>NaN</td>\n",
       "      <td>Action</td>\n",
       "      <td>4.6</td>\n",
       "      <td>11</td>\n",
       "      <td>Mahendra Shah</td>\n",
       "      <td>Naseeruddin Shah</td>\n",
       "      <td>Sumeet Saigal</td>\n",
       "      <td>Suparna Anand</td>\n",
       "    </tr>\n",
       "    <tr>\n",
       "      <th>15505</th>\n",
       "      <td>Zulmi</td>\n",
       "      <td>1999.0</td>\n",
       "      <td>129 min</td>\n",
       "      <td>Action, Drama</td>\n",
       "      <td>4.5</td>\n",
       "      <td>655</td>\n",
       "      <td>Kuku Kohli</td>\n",
       "      <td>Akshay Kumar</td>\n",
       "      <td>Twinkle Khanna</td>\n",
       "      <td>Aruna Irani</td>\n",
       "    </tr>\n",
       "    <tr>\n",
       "      <th>15506</th>\n",
       "      <td>Zulmi Raj</td>\n",
       "      <td>2005.0</td>\n",
       "      <td>NaN</td>\n",
       "      <td>Action</td>\n",
       "      <td>NaN</td>\n",
       "      <td>NaN</td>\n",
       "      <td>Kiran Thej</td>\n",
       "      <td>Sangeeta Tiwari</td>\n",
       "      <td>NaN</td>\n",
       "      <td>NaN</td>\n",
       "    </tr>\n",
       "    <tr>\n",
       "      <th>15507</th>\n",
       "      <td>Zulmi Shikari</td>\n",
       "      <td>1988.0</td>\n",
       "      <td>NaN</td>\n",
       "      <td>Action</td>\n",
       "      <td>NaN</td>\n",
       "      <td>NaN</td>\n",
       "      <td>NaN</td>\n",
       "      <td>NaN</td>\n",
       "      <td>NaN</td>\n",
       "      <td>NaN</td>\n",
       "    </tr>\n",
       "    <tr>\n",
       "      <th>15508</th>\n",
       "      <td>Zulm-O-Sitam</td>\n",
       "      <td>1998.0</td>\n",
       "      <td>130 min</td>\n",
       "      <td>Action, Drama</td>\n",
       "      <td>6.2</td>\n",
       "      <td>20</td>\n",
       "      <td>K.C. Bokadia</td>\n",
       "      <td>Dharmendra</td>\n",
       "      <td>Jaya Prada</td>\n",
       "      <td>Arjun Sarja</td>\n",
       "    </tr>\n",
       "  </tbody>\n",
       "</table>\n",
       "<p>15509 rows × 10 columns</p>\n",
       "</div>"
      ],
      "text/plain": [
       "                                     Name    Year Duration            Genre  \\\n",
       "0                                             NaN      NaN            Drama   \n",
       "1      #Gadhvi (He thought he was Gandhi)  2019.0  109 min            Drama   \n",
       "2                             #Homecoming  2021.0   90 min   Drama, Musical   \n",
       "3                                 #Yaaram  2019.0  110 min  Comedy, Romance   \n",
       "4                       ...And Once Again  2010.0  105 min            Drama   \n",
       "...                                   ...     ...      ...              ...   \n",
       "15504                 Zulm Ko Jala Doonga  1988.0      NaN           Action   \n",
       "15505                               Zulmi  1999.0  129 min    Action, Drama   \n",
       "15506                           Zulmi Raj  2005.0      NaN           Action   \n",
       "15507                       Zulmi Shikari  1988.0      NaN           Action   \n",
       "15508                        Zulm-O-Sitam  1998.0  130 min    Action, Drama   \n",
       "\n",
       "       Rating Votes            Director           Actor 1             Actor 2  \\\n",
       "0         NaN   NaN       J.S. Randhawa          Manmauji              Birbal   \n",
       "1         7.0     8       Gaurav Bakshi      Rasika Dugal      Vivek Ghamande   \n",
       "2         NaN   NaN  Soumyajit Majumdar      Sayani Gupta   Plabita Borthakur   \n",
       "3         4.4    35          Ovais Khan           Prateik          Ishita Raj   \n",
       "4         NaN   NaN        Amol Palekar      Rajat Kapoor  Rituparna Sengupta   \n",
       "...       ...   ...                 ...               ...                 ...   \n",
       "15504     4.6    11       Mahendra Shah  Naseeruddin Shah       Sumeet Saigal   \n",
       "15505     4.5   655          Kuku Kohli      Akshay Kumar      Twinkle Khanna   \n",
       "15506     NaN   NaN          Kiran Thej   Sangeeta Tiwari                 NaN   \n",
       "15507     NaN   NaN                 NaN               NaN                 NaN   \n",
       "15508     6.2    20        K.C. Bokadia        Dharmendra          Jaya Prada   \n",
       "\n",
       "               Actor 3  \n",
       "0      Rajendra Bhatia  \n",
       "1        Arvind Jangid  \n",
       "2           Roy Angana  \n",
       "3      Siddhant Kapoor  \n",
       "4          Antara Mali  \n",
       "...                ...  \n",
       "15504    Suparna Anand  \n",
       "15505      Aruna Irani  \n",
       "15506              NaN  \n",
       "15507              NaN  \n",
       "15508      Arjun Sarja  \n",
       "\n",
       "[15509 rows x 10 columns]"
      ]
     },
     "execution_count": 6,
     "metadata": {},
     "output_type": "execute_result"
    }
   ],
   "source": [
    "df"
   ]
  },
  {
   "cell_type": "markdown",
   "id": "f3d14c8c",
   "metadata": {},
   "source": [
    "## Data filtering and preprocessing"
   ]
  },
  {
   "cell_type": "code",
   "execution_count": 7,
   "id": "5535b486",
   "metadata": {},
   "outputs": [
    {
     "data": {
      "text/plain": [
       "(15509, 10)"
      ]
     },
     "execution_count": 7,
     "metadata": {},
     "output_type": "execute_result"
    }
   ],
   "source": [
    "df.shape"
   ]
  },
  {
   "cell_type": "code",
   "execution_count": 8,
   "id": "619d05f8",
   "metadata": {},
   "outputs": [
    {
     "name": "stdout",
     "output_type": "stream",
     "text": [
      "<class 'pandas.core.frame.DataFrame'>\n",
      "RangeIndex: 15509 entries, 0 to 15508\n",
      "Data columns (total 10 columns):\n",
      " #   Column    Non-Null Count  Dtype  \n",
      "---  ------    --------------  -----  \n",
      " 0   Name      15509 non-null  object \n",
      " 1   Year      14981 non-null  float64\n",
      " 2   Duration  7240 non-null   object \n",
      " 3   Genre     13632 non-null  object \n",
      " 4   Rating    7919 non-null   float64\n",
      " 5   Votes     7920 non-null   object \n",
      " 6   Director  14984 non-null  object \n",
      " 7   Actor 1   13892 non-null  object \n",
      " 8   Actor 2   13125 non-null  object \n",
      " 9   Actor 3   12365 non-null  object \n",
      "dtypes: float64(2), object(8)\n",
      "memory usage: 1.2+ MB\n"
     ]
    }
   ],
   "source": [
    "df.info()"
   ]
  },
  {
   "cell_type": "code",
   "execution_count": 9,
   "id": "cf349ad2",
   "metadata": {},
   "outputs": [
    {
     "data": {
      "text/html": [
       "<div>\n",
       "<style scoped>\n",
       "    .dataframe tbody tr th:only-of-type {\n",
       "        vertical-align: middle;\n",
       "    }\n",
       "\n",
       "    .dataframe tbody tr th {\n",
       "        vertical-align: top;\n",
       "    }\n",
       "\n",
       "    .dataframe thead th {\n",
       "        text-align: right;\n",
       "    }\n",
       "</style>\n",
       "<table border=\"1\" class=\"dataframe\">\n",
       "  <thead>\n",
       "    <tr style=\"text-align: right;\">\n",
       "      <th></th>\n",
       "      <th>Year</th>\n",
       "      <th>Rating</th>\n",
       "    </tr>\n",
       "  </thead>\n",
       "  <tbody>\n",
       "    <tr>\n",
       "      <th>count</th>\n",
       "      <td>14981.000000</td>\n",
       "      <td>7919.000000</td>\n",
       "    </tr>\n",
       "    <tr>\n",
       "      <th>mean</th>\n",
       "      <td>1987.012215</td>\n",
       "      <td>5.841621</td>\n",
       "    </tr>\n",
       "    <tr>\n",
       "      <th>std</th>\n",
       "      <td>25.416689</td>\n",
       "      <td>1.381777</td>\n",
       "    </tr>\n",
       "    <tr>\n",
       "      <th>min</th>\n",
       "      <td>1913.000000</td>\n",
       "      <td>1.100000</td>\n",
       "    </tr>\n",
       "    <tr>\n",
       "      <th>25%</th>\n",
       "      <td>1968.000000</td>\n",
       "      <td>4.900000</td>\n",
       "    </tr>\n",
       "    <tr>\n",
       "      <th>50%</th>\n",
       "      <td>1991.000000</td>\n",
       "      <td>6.000000</td>\n",
       "    </tr>\n",
       "    <tr>\n",
       "      <th>75%</th>\n",
       "      <td>2009.000000</td>\n",
       "      <td>6.800000</td>\n",
       "    </tr>\n",
       "    <tr>\n",
       "      <th>max</th>\n",
       "      <td>2022.000000</td>\n",
       "      <td>10.000000</td>\n",
       "    </tr>\n",
       "  </tbody>\n",
       "</table>\n",
       "</div>"
      ],
      "text/plain": [
       "               Year       Rating\n",
       "count  14981.000000  7919.000000\n",
       "mean    1987.012215     5.841621\n",
       "std       25.416689     1.381777\n",
       "min     1913.000000     1.100000\n",
       "25%     1968.000000     4.900000\n",
       "50%     1991.000000     6.000000\n",
       "75%     2009.000000     6.800000\n",
       "max     2022.000000    10.000000"
      ]
     },
     "execution_count": 9,
     "metadata": {},
     "output_type": "execute_result"
    }
   ],
   "source": [
    "df.describe()"
   ]
  },
  {
   "cell_type": "code",
   "execution_count": 10,
   "id": "11fa2c01",
   "metadata": {},
   "outputs": [
    {
     "data": {
      "text/plain": [
       "Name           0\n",
       "Year         528\n",
       "Duration    8269\n",
       "Genre       1877\n",
       "Rating      7590\n",
       "Votes       7589\n",
       "Director     525\n",
       "Actor 1     1617\n",
       "Actor 2     2384\n",
       "Actor 3     3144\n",
       "dtype: int64"
      ]
     },
     "execution_count": 10,
     "metadata": {},
     "output_type": "execute_result"
    }
   ],
   "source": [
    "df.isnull().sum()"
   ]
  },
  {
   "cell_type": "code",
   "execution_count": 11,
   "id": "e075249f",
   "metadata": {},
   "outputs": [
    {
     "name": "stdout",
     "output_type": "stream",
     "text": [
      "Unique Genre: ['Drama' 'Drama, Musical' 'Comedy, Romance' 'Comedy, Drama, Musical'\n",
      " 'Drama, Romance, War' 'Documentary' 'Horror, Mystery, Thriller'\n",
      " 'Action, Crime, Thriller' 'Horror' 'Horror, Romance, Thriller'\n",
      " 'Comedy, Drama, Romance' 'Thriller' 'Comedy, Drama' nan\n",
      " 'Comedy, Drama, Fantasy' 'Comedy, Drama, Family' 'Crime, Drama, Mystery'\n",
      " 'Horror, Thriller' 'Biography' 'Comedy, Horror' 'Action'\n",
      " 'Drama, Horror, Mystery' 'Comedy' 'Action, Thriller' 'Drama, History'\n",
      " 'Drama, History, Sport' 'Horror, Mystery, Romance' 'Horror, Mystery'\n",
      " 'Drama, Horror, Romance' 'Action, Drama, History' 'Action, Drama, War'\n",
      " 'Comedy, Family' 'Adventure, Horror, Mystery' 'Action, Sci-Fi'\n",
      " 'Crime, Mystery, Thriller' 'War' 'Sport' 'Biography, Drama, History'\n",
      " 'Horror, Romance' 'Crime, Drama' 'Drama, Romance' 'Adventure, Drama'\n",
      " 'Comedy, Mystery, Thriller' 'Action, Crime, Drama' 'Crime, Thriller'\n",
      " 'Horror, Sci-Fi, Thriller' 'Crime, Drama, Thriller'\n",
      " 'Drama, Mystery, Thriller' 'Drama, Sport' 'Drama, Family, Musical'\n",
      " 'Action, Comedy' 'Comedy, Thriller' 'Action, Adventure, Fantasy'\n",
      " 'Drama, Romance, Thriller' 'Action, Drama' 'Drama, Horror, Musical'\n",
      " 'Action, Biography, Drama' 'Adventure, Comedy, Drama' 'Mystery'\n",
      " 'Action, Fantasy, Mystery' 'Adventure, Drama, Mystery'\n",
      " 'Mystery, Thriller' 'Adventure' 'Drama, Musical, Thriller'\n",
      " 'Comedy, Crime, Drama' 'Musical, Romance' 'Documentary, Music'\n",
      " 'Documentary, History, Music' 'Drama, Fantasy, Mystery'\n",
      " 'Drama, Family, Sport' 'Drama, Thriller' 'Documentary, Biography'\n",
      " 'Action, Adventure, Comedy' 'Romance' 'Comedy, Drama, Music'\n",
      " 'Comedy, Horror, Mystery' 'Musical' 'Musical, Romance, Drama'\n",
      " 'Family, Romance' 'Action, Sci-Fi, Thriller' 'Action, Drama, Romance'\n",
      " 'Mystery, Romance' 'Fantasy' 'Family' 'Drama, Family'\n",
      " 'Action, Comedy, Drama' 'Action, Drama, Thriller'\n",
      " 'Drama, Horror, Thriller' 'Drama, Musical, Romance' 'Comedy, Sci-Fi'\n",
      " 'Action, Romance' 'Action, Crime' 'Action, Drama, Crime'\n",
      " 'Drama, Family, Music' 'Action, Mystery, Thriller'\n",
      " 'Action, Drama, Family' 'Action, Mystery' 'Drama, History, Romance'\n",
      " 'Crime, Drama, Music' 'Sci-Fi' 'Animation' 'Crime, Mystery, Romance'\n",
      " 'Action, Adventure, Romance' 'Music, Romance' 'Action, Comedy, Crime'\n",
      " 'Comedy, Family, Fantasy' 'Romance, Drama' 'Drama, Family, Romance'\n",
      " 'Romance, Drama, Family' 'Musical, Romance, Thriller'\n",
      " 'Family, Musical, Romance' 'Action, Drama, Fantasy' 'Family, Drama'\n",
      " 'Crime, Drama, Romance' 'Musical, Drama, Romance' 'Drama, Music, Musical'\n",
      " 'Drama, Mystery' 'Adventure, Comedy, Romance' 'Crime, Drama, Horror'\n",
      " 'Family, Music, Musical' 'Action, Musical, Thriller'\n",
      " 'Action, Romance, Thriller' 'Romance, Thriller' 'Drama, Music'\n",
      " 'Crime, Drama, Musical' 'Action, Crime, Mystery'\n",
      " 'Action, Adventure, Thriller' 'Comedy, Romance, Sci-Fi' 'Crime'\n",
      " 'Action, Drama, Mystery' 'Action, Comedy, Thriller' 'Biography, Drama'\n",
      " 'Action, Comedy, Fantasy' 'Drama, Family, Horror'\n",
      " 'Action, Adventure, Family' 'Documentary, Biography, Musical'\n",
      " 'Action, Drama, Musical' 'Adventure, Thriller' 'Crime, Mystery'\n",
      " 'Drama, Crime' 'Drama, Fantasy, Romance' 'Comedy, Romance, Thriller'\n",
      " 'Musical, Comedy, Drama' 'Biography, History, War'\n",
      " 'Action, Comedy, Romance' 'Drama, History, Musical'\n",
      " 'Action, Crime, Horror' 'Adventure, Fantasy' 'Adventure, Drama, Fantasy'\n",
      " 'Adventure, Fantasy, Romance' 'Action, Adventure, Drama'\n",
      " 'Action, Adventure' 'Comedy, Crime' 'Crime, Drama, Fantasy'\n",
      " 'Adventure, Drama, Romance' 'History' 'Drama, Fantasy, Thriller'\n",
      " 'Musical, Fantasy' 'Documentary, Thriller' 'Mystery, Romance, Musical'\n",
      " 'Family, Drama, Romance' 'History, Musical, Romance'\n",
      " 'Musical, Drama, Crime' 'Adventure, Crime, Romance'\n",
      " 'Musical, Thriller, Mystery' 'Drama, Comedy' 'Biography, Drama, Romance'\n",
      " 'Biography, Music' 'Biography, Drama, Music' 'Drama, Sci-Fi'\n",
      " 'Drama, Family, Thriller' 'Comedy, Musical, Romance'\n",
      " 'Drama, Family, Comedy' 'Action, Thriller, Romance'\n",
      " 'Animation, Adventure' 'Action, Crime, Musical' 'Action, Crime, Romance'\n",
      " 'Animation, Action, Adventure' 'Action, Drama, Sport' 'Comedy, History'\n",
      " 'Documentary, History' 'Drama, Comedy, Family' 'Action, Adventure, Crime'\n",
      " 'Documentary, Biography, Music' 'Comedy, Musical'\n",
      " 'Biography, Crime, Thriller' 'Adventure, Mystery, Thriller'\n",
      " 'Biography, Drama, Sport' 'Action, Comedy, Musical'\n",
      " 'Mystery, Romance, Thriller' 'Action, Adventure, Musical'\n",
      " 'Crime, Musical, Mystery' 'Action, Thriller, Crime'\n",
      " 'Adventure, Comedy, Crime' 'Comedy, Horror, Musical' 'Adventure, Family'\n",
      " 'Family, Thriller' 'Drama, Action, Crime' 'Drama, War'\n",
      " 'Action, Drama, Adventure' 'Adventure, Fantasy, History'\n",
      " 'Fantasy, Musical' 'Comedy, Drama, Thriller' 'Drama, Fantasy'\n",
      " 'Musical, Drama' 'Action, Drama, Horror' 'Biography, Crime, Drama'\n",
      " 'Action, Drama, Music' 'Adventure, Drama, Family'\n",
      " 'Drama, Romance, Musical' 'Comedy, Musical, Drama'\n",
      " 'Adventure, Comedy, Musical' 'Crime, Drama, Family'\n",
      " 'Thriller, Musical, Mystery' 'Documentary, Adventure, Crime'\n",
      " 'Drama, Action, Horror' 'Adventure, Crime, Drama'\n",
      " 'Documentary, Biography, Sport' 'Crime, Fantasy, Mystery'\n",
      " 'Documentary, Biography, Drama' 'Action, Fantasy, Thriller'\n",
      " 'Adventure, Drama, History' 'Animation, Drama, History'\n",
      " 'Comedy, Horror, Thriller' 'Drama, Family, History' 'Animation, History'\n",
      " 'Biography, Drama, Musical' 'Music' 'Family, Comedy' 'Adventure, Mystery'\n",
      " 'Family, Fantasy' 'Documentary, History, News' 'Drama, Mystery, Romance'\n",
      " 'Comedy, Fantasy' 'Action, Crime, Family' 'Drama, Musical, Mystery'\n",
      " 'Action, Thriller, Mystery' 'Drama, Family, Fantasy' 'Action, Family'\n",
      " 'Action, Adventure, Mystery' 'Horror, Fantasy' 'Comedy, Action'\n",
      " 'Adventure, Romance' 'Drama, Adventure' 'Animation, Drama, Romance'\n",
      " 'Comedy, Crime, Romance' 'Adventure, Comedy' 'Comedy, Drama, Sport'\n",
      " 'Documentary, Crime, History' 'Musical, Mystery, Drama'\n",
      " 'Adventure, Drama, Sci-Fi' 'Action, Romance, Western'\n",
      " 'Comedy, Fantasy, Romance' 'Animation, Action, Comedy'\n",
      " 'Drama, Fantasy, Sci-Fi' 'Drama, Horror' 'Family, Drama, Comedy'\n",
      " 'Action, Adventure, History' 'Comedy, Family, Romance'\n",
      " 'Biography, History' 'Animation, Family' 'Drama, Fantasy, History'\n",
      " 'Animation, Adventure, Fantasy' 'Adventure, Comedy, Family'\n",
      " 'Drama, History, War' 'Animation, Drama, Fantasy'\n",
      " 'Action, Musical, Romance' 'Crime, Action, Drama'\n",
      " 'Comedy, Romance, Musical' 'Fantasy, Drama' 'Musical, Action, Crime'\n",
      " 'Documentary, Drama' 'Action, Horror, Thriller' 'Action, Horror, Sci-Fi'\n",
      " 'Mystery, Sci-Fi, Thriller' 'Biography, Family' 'Drama, Action, Comedy'\n",
      " 'Drama, Music, Romance' 'Action, Biography, Crime'\n",
      " 'Adventure, Drama, Musical' 'Family, Music, Romance'\n",
      " 'Fantasy, Mystery, Romance' 'Drama, Crime, Family'\n",
      " 'Drama, Family, Action' 'Romance, Comedy, Drama'\n",
      " 'Animation, Adventure, Comedy' 'Sci-Fi, Thriller'\n",
      " 'Romance, Family, Drama' 'Action, Family, Thriller'\n",
      " 'Adventure, Crime, Thriller' 'Drama, Romance, Sport'\n",
      " 'Comedy, Crime, Mystery' 'Adventure, Comedy, Mystery' 'Action, Fantasy'\n",
      " 'Comedy, Mystery' 'Animation, Adventure, Family'\n",
      " 'Adventure, Drama, Music' 'Biography, Drama, War'\n",
      " 'Documentary, Comedy, Drama' 'Musical, Drama, Family'\n",
      " 'Animation, Comedy, Drama' 'Fantasy, Musical, Drama'\n",
      " 'Adventure, Crime, Mystery' 'Comedy, Drama, Mystery' 'Documentary, News'\n",
      " 'Drama, Musical, Family' 'Action, Romance, Drama'\n",
      " 'Comedy, Crime, Thriller' 'Action, Musical' 'Action, History'\n",
      " 'Action, Comedy, Mystery' 'Drama, Family, Mystery'\n",
      " 'Adventure, Drama, Thriller' 'Documentary, Reality-TV'\n",
      " 'Action, Fantasy, Horror' 'Drama, History, Thriller'\n",
      " 'Documentary, Family' 'Documentary, Biography, Family' 'Comedy, Sport'\n",
      " 'Animation, Comedy, Family' 'Crime, Romance, Thriller'\n",
      " 'Comedy, Musical, Action' 'Action, Mystery, Sci-Fi'\n",
      " 'Comedy, Crime, Musical' 'Drama, Adventure, Action' 'History, Romance'\n",
      " 'Reality-TV' 'Fantasy, History' 'Family, Drama, Thriller'\n",
      " 'Musical, Mystery, Thriller' 'Musical, Comedy, Romance'\n",
      " 'Musical, Action, Drama' 'Action, Musical, War' 'Romance, Comedy'\n",
      " 'Horror, Crime, Thriller' 'Crime, Drama, History' 'Comedy, Drama, Horror'\n",
      " 'Crime, Horror, Thriller' 'Animation, Comedy' 'Romance, Action, Crime'\n",
      " 'Musical, Thriller' 'Action, Romance, Comedy' 'Comedy, Family, Musical'\n",
      " 'Horror, Drama, Mystery' 'Thriller, Mystery, Family'\n",
      " 'Comedy, Drama, Sci-Fi' 'Documentary, Adventure'\n",
      " 'Documentary, Biography, Crime' 'Musical, Action' 'Musical, Mystery'\n",
      " 'Action, Crime, Sci-Fi' 'Action, Horror, Mystery' 'Fantasy, Horror'\n",
      " 'Adventure, Family, Fantasy' 'Fantasy, Sci-Fi' 'Comedy, War'\n",
      " 'Romance, Action, Drama' 'Musical, Family, Romance'\n",
      " 'Romance, Drama, Action' 'Family, Comedy, Drama' 'Comedy, Music, Romance'\n",
      " 'Comedy, Family, Sci-Fi' 'Action, Drama, Western'\n",
      " 'Adventure, Romance, Thriller' 'Biography, Comedy, Drama'\n",
      " 'Action, Mystery, Romance' 'Romance, Sport' 'Crime, Romance'\n",
      " 'Action, Thriller, Western' 'Crime, Musical, Romance'\n",
      " 'Romance, Thriller, Mystery' 'Drama, Crime, Mystery'\n",
      " 'Biography, Drama, Family' 'Action, Family, Mystery'\n",
      " 'Comedy, Mystery, Romance' 'Drama, Thriller, Action' 'Documentary, Short'\n",
      " 'Documentary, Western' 'Musical, Family, Drama' 'Action, Family, Musical'\n",
      " 'Animation, Family, Musical' 'Drama, Fantasy, Horror'\n",
      " 'Action, Adventure, Sci-Fi' 'Drama, Action, Musical'\n",
      " 'Drama, Musical, Sport' 'Action, Comedy, Horror'\n",
      " 'Drama, Fantasy, Musical' 'Action, Fantasy, Musical' 'Animation, Action'\n",
      " 'Comedy, Music' 'Documentary, Drama, Romance' 'Drama, Music, Thriller'\n",
      " 'Fantasy, Musical, Mystery' 'Drama, Fantasy, War' 'Action, War'\n",
      " 'Action, Adventure, War' 'Horror, Musical' 'Fantasy, Mystery, Thriller'\n",
      " 'Adventure, Biography, Drama' 'Family, Romance, Sci-Fi'\n",
      " 'Drama, Romance, Family' 'Animation, Adventure, Drama'\n",
      " 'Family, Romance, Drama' 'Animation, Action, Sci-Fi'\n",
      " 'Adventure, Comedy, Fantasy' 'Comedy, Crime, Family'\n",
      " 'Horror, Musical, Thriller' 'Biography, Drama, Thriller' 'Drama, Western'\n",
      " 'Romance, Sci-Fi, Thriller' 'Comedy, Musical, Family'\n",
      " 'Comedy, Horror, Romance' 'Thriller, Action' 'Fantasy, Thriller, Action'\n",
      " 'Fantasy, Romance' 'Action, Drama, Comedy' 'Family, Fantasy, Romance'\n",
      " 'Comedy, Crime, Horror' 'Horror, Mystery, Sci-Fi'\n",
      " 'Animation, Action, Drama' 'Family, Mystery'\n",
      " 'Adventure, Biography, History' 'Fantasy, Horror, Mystery'\n",
      " 'Family, Musical' 'Drama, Family, Adventure' 'Crime, Horror, Mystery'\n",
      " 'Documentary, Drama, Fantasy' 'Action, Adventure, Biography'\n",
      " 'Biography, History, Thriller' 'Action, Family, Drama'\n",
      " 'Documentary, Drama, Sport' 'Thriller, Mystery' 'Musical, Drama, Comedy'\n",
      " 'Documentary, History, War' 'Adventure, Horror, Thriller'\n",
      " 'Action, Adventure, Horror' 'Action, Crime, War'\n",
      " 'Adventure, Musical, Romance' 'Action, Fantasy, Sci-Fi'\n",
      " 'Drama, Comedy, Action' 'Documentary, Sport'\n",
      " 'Documentary, Adventure, Music' 'Drama, Action, Family'\n",
      " 'Adventure, History, Thriller' 'Adventure, Horror, Romance'\n",
      " 'Adventure, Crime, Horror' 'Mystery, Musical, Romance'\n",
      " 'Action, Crime, History' 'Documentary, Musical'\n",
      " 'Adventure, Fantasy, Musical' 'Documentary, Family, History'\n",
      " 'Documentary, Drama, Family' 'Drama, Mystery, Sci-Fi'\n",
      " 'Animation, Drama, Musical' 'Drama, History, Mystery'\n",
      " 'Drama, Sport, Thriller' 'Action, Crime, Fantasy'\n",
      " 'Comedy, Musical, Mystery' 'Romance, Musical, Action'\n",
      " 'Musical, Drama, Fantasy' 'Animation, Family, History'\n",
      " 'Action, Drama, News' 'Romance, Musical, Comedy'\n",
      " 'Adventure, Fantasy, Horror' 'Adventure, History'\n",
      " 'Comedy, Drama, History' 'Mystery, Sci-Fi' 'Action, Thriller, War'\n",
      " 'Documentary, Drama, News' 'Documentary, Crime, Mystery'\n",
      " 'Adventure, Horror' 'Animation, Drama, Adventure'\n",
      " 'Crime, Horror, Romance' 'Documentary, Adventure, Drama'\n",
      " 'Documentary, Biography, History' 'Fantasy, Horror, Romance'\n",
      " 'Comedy, Fantasy, Musical' 'Crime, Musical, Thriller' 'Documentary, War'\n",
      " 'Action, Comedy, War' 'Crime, Drama, Sport' 'Musical, Adventure, Drama'\n",
      " 'Horror, Romance, Sci-Fi' 'Musical, Mystery, Romance'\n",
      " 'Romance, Musical, Drama' 'Adventure, Fantasy, Sci-Fi']\n"
     ]
    }
   ],
   "source": [
    "print(\"Unique Genre:\", df['Genre'].unique())"
   ]
  },
  {
   "cell_type": "code",
   "execution_count": 12,
   "id": "d07d93ff",
   "metadata": {},
   "outputs": [
    {
     "name": "stdout",
     "output_type": "stream",
     "text": [
      "Rating Distribution: Rating\n",
      "6.2     269\n",
      "6.8     264\n",
      "6.5     254\n",
      "6.6     239\n",
      "6.7     227\n",
      "       ... \n",
      "9.6       1\n",
      "1.4       1\n",
      "9.7       1\n",
      "10.0      1\n",
      "1.1       1\n",
      "Name: count, Length: 84, dtype: int64\n"
     ]
    }
   ],
   "source": [
    "print(\"Rating Distribution:\", df['Rating'].value_counts())"
   ]
  },
  {
   "cell_type": "code",
   "execution_count": 13,
   "id": "2ed63ea4",
   "metadata": {},
   "outputs": [
    {
     "data": {
      "text/plain": [
       "Name           0\n",
       "Year         527\n",
       "Duration    8264\n",
       "Genre       1876\n",
       "Rating      7584\n",
       "Votes       7583\n",
       "Director     524\n",
       "Actor 1     1615\n",
       "Actor 2     2381\n",
       "Actor 3     3140\n",
       "dtype: int64"
      ]
     },
     "execution_count": 13,
     "metadata": {},
     "output_type": "execute_result"
    }
   ],
   "source": [
    "df.drop_duplicates(inplace = True)\n",
    "df.isnull().sum()"
   ]
  },
  {
   "cell_type": "code",
   "execution_count": 14,
   "id": "68b6e5d2",
   "metadata": {},
   "outputs": [
    {
     "data": {
      "text/plain": [
       "Name          0\n",
       "Year          0\n",
       "Duration      0\n",
       "Genre        31\n",
       "Rating        0\n",
       "Votes         0\n",
       "Director      1\n",
       "Actor 1      75\n",
       "Actor 2     117\n",
       "Actor 3     163\n",
       "dtype: int64"
      ]
     },
     "execution_count": 14,
     "metadata": {},
     "output_type": "execute_result"
    }
   ],
   "source": [
    "attributes = ['Year', 'Duration', 'Rating', 'Votes']\n",
    "df.dropna(subset= attributes, inplace = True)\n",
    "df.isna().sum()"
   ]
  },
  {
   "cell_type": "code",
   "execution_count": 15,
   "id": "342d1f91",
   "metadata": {},
   "outputs": [
    {
     "data": {
      "text/plain": [
       "(5851, 10)"
      ]
     },
     "execution_count": 15,
     "metadata": {},
     "output_type": "execute_result"
    }
   ],
   "source": [
    "df.shape"
   ]
  },
  {
   "cell_type": "code",
   "execution_count": 16,
   "id": "441f6cb8",
   "metadata": {},
   "outputs": [
    {
     "data": {
      "text/plain": [
       "1        2019.0\n",
       "3        2019.0\n",
       "5        1997.0\n",
       "6        2005.0\n",
       "8        2012.0\n",
       "          ...  \n",
       "15493    2015.0\n",
       "15494    2001.0\n",
       "15503    1989.0\n",
       "15505    1999.0\n",
       "15508    1998.0\n",
       "Name: Year, Length: 5851, dtype: float64"
      ]
     },
     "execution_count": 16,
     "metadata": {},
     "output_type": "execute_result"
    }
   ],
   "source": [
    "df['Year']"
   ]
  },
  {
   "cell_type": "code",
   "execution_count": 17,
   "id": "6220449e",
   "metadata": {},
   "outputs": [],
   "source": [
    "df['Year'] = df['Year'].astype('int')"
   ]
  },
  {
   "cell_type": "code",
   "execution_count": 18,
   "id": "65c0e0b9",
   "metadata": {},
   "outputs": [
    {
     "data": {
      "text/plain": [
       "1        2019\n",
       "3        2019\n",
       "5        1997\n",
       "6        2005\n",
       "8        2012\n",
       "         ... \n",
       "15493    2015\n",
       "15494    2001\n",
       "15503    1989\n",
       "15505    1999\n",
       "15508    1998\n",
       "Name: Year, Length: 5851, dtype: int32"
      ]
     },
     "execution_count": 18,
     "metadata": {},
     "output_type": "execute_result"
    }
   ],
   "source": [
    "df['Year']"
   ]
  },
  {
   "cell_type": "code",
   "execution_count": 19,
   "id": "1d39b0db",
   "metadata": {},
   "outputs": [
    {
     "data": {
      "text/plain": [
       "Index(['Name', 'Year', 'Duration', 'Genre', 'Rating', 'Votes', 'Director',\n",
       "       'Actor 1', 'Actor 2', 'Actor 3'],\n",
       "      dtype='object')"
      ]
     },
     "execution_count": 19,
     "metadata": {},
     "output_type": "execute_result"
    }
   ],
   "source": [
    "df.columns"
   ]
  },
  {
   "cell_type": "code",
   "execution_count": 20,
   "id": "06c17fce",
   "metadata": {},
   "outputs": [
    {
     "data": {
      "image/png": "[encoded data removed]",
      "text/plain": [
       "<Figure size 1000x600 with 1 Axes>"
      ]
     },
     "metadata": {},
     "output_type": "display_data"
    }
   ],
   "source": [
    "top_rated_movies = df.sort_values(by = 'Rating', ascending =False).head(10)\n",
    "plt.figure(figsize=(10, 6))\n",
    "sns.barplot(x = top_rated_movies['Rating'], y= top_rated_movies['Name'], color = 'cyan' )\n",
    "plt.title(\"TOP 10 HIGHLY RATED MOVIES\")\n",
    "plt.show()"
   ]
  },
  {
   "cell_type": "code",
   "execution_count": 21,
   "id": "146722a1",
   "metadata": {},
   "outputs": [],
   "source": [
    "df['Votes'] = df['Votes'].str.replace(r',', '', regex=True).astype(int)"
   ]
  },
  {
   "cell_type": "code",
   "execution_count": 22,
   "id": "140122ca",
   "metadata": {},
   "outputs": [
    {
     "data": {
      "text/plain": [
       "1           8\n",
       "3          35\n",
       "5         827\n",
       "6        1086\n",
       "8         326\n",
       "         ... \n",
       "15493     408\n",
       "15494    1496\n",
       "15503      44\n",
       "15505     655\n",
       "15508      20\n",
       "Name: Votes, Length: 5851, dtype: int32"
      ]
     },
     "execution_count": 22,
     "metadata": {},
     "output_type": "execute_result"
    }
   ],
   "source": [
    "df['Votes']"
   ]
  },
  {
   "cell_type": "code",
   "execution_count": 23,
   "id": "7b2d097f",
   "metadata": {},
   "outputs": [
    {
     "name": "stdout",
     "output_type": "stream",
     "text": [
      "Movie with the highest votes: Life of Pi\n",
      "Number of votes: 591417\n",
      "\n",
      "Movie with the lowest votes: Anmol Sitaare\n",
      "Number of votes: 5\n"
     ]
    }
   ],
   "source": [
    "max_voted_row = df[df['Votes'] == df['Votes'].max()]\n",
    "movie_highest_votes = max_voted_row['Name'].values[0]\n",
    "highest_votes = max_voted_row['Votes'].values[0]\n",
    "\n",
    "print(\"Movie with the highest votes:\", movie_highest_votes)\n",
    "print(\"Number of votes:\", highest_votes)\n",
    "print()\n",
    "\n",
    "min_voted_row = df[df['Votes'] == df['Votes'].min()]\n",
    "movie_lowest_votes = min_voted_row['Name'].values[0]\n",
    "lowest_votes = min_voted_row['Votes'].values[0]\n",
    "\n",
    "print(\"Movie with the lowest votes:\", movie_lowest_votes)\n",
    "print(\"Number of votes:\", lowest_votes)"
   ]
  },
  {
   "cell_type": "code",
   "execution_count": 24,
   "id": "3e0ce3f8",
   "metadata": {},
   "outputs": [
    {
     "data": {
      "image/png": "[encoded data removed]",
      "text/plain": [
       "<Figure size 1000x600 with 1 Axes>"
      ]
     },
     "metadata": {},
     "output_type": "display_data"
    }
   ],
   "source": [
    "plt.figure(figsize=(10, 6))\n",
    "sns.scatterplot(x='Year', y ='Rating', data = df)\n",
    "plt.title('Scatter Plot of Movies Based on Year')\n",
    "plt.xlabel('Year')\n",
    "plt.ylabel('Rating')\n",
    "plt.show()"
   ]
  },
  {
   "cell_type": "code",
   "execution_count": 25,
   "id": "41d0acbf",
   "metadata": {},
   "outputs": [],
   "source": [
    "actors = pd.concat([df['Actor 1'], df['Actor 2'], df['Actor 3']])\n",
    "actor_count = actors.value_counts().reset_index()\n",
    "actor_count.columns = ['Actors', 'Number of Movies']"
   ]
  },
  {
   "cell_type": "code",
   "execution_count": 26,
   "id": "fa605e3b",
   "metadata": {},
   "outputs": [
    {
     "data": {
      "image/png": "[encoded data removed]",
      "text/plain": [
       "<Figure size 1000x600 with 1 Axes>"
      ]
     },
     "metadata": {},
     "output_type": "display_data"
    }
   ],
   "source": [
    "plt.figure(figsize=(10, 6))\n",
    "sns.barplot(x = 'Number of Movies', y = 'Actors', data = actor_count.head(10), palette = 'Spectral')\n",
    "plt.title('TOP 10 ACTORS BY NUMBER OF MOVIES PERFORMED')\n",
    "plt.show()"
   ]
  },
  {
   "cell_type": "code",
   "execution_count": 27,
   "id": "62ce7cd1",
   "metadata": {},
   "outputs": [],
   "source": [
    "director = df['Director']\n",
    "director_count = director.value_counts().reset_index()\n",
    "director_count.columns = ['Director', 'Number of Movies']"
   ]
  },
  {
   "cell_type": "code",
   "execution_count": 28,
   "id": "11dfd1db",
   "metadata": {},
   "outputs": [
    {
     "data": {
      "image/png": "[encoded data removed]",
      "text/plain": [
       "<Figure size 1000x600 with 1 Axes>"
      ]
     },
     "metadata": {},
     "output_type": "display_data"
    }
   ],
   "source": [
    "plt.figure(figsize=(10, 6))\n",
    "sns.barplot(x = 'Number of Movies', y = 'Director', data = director_count.head(5), palette = 'tab10')\n",
    "plt.title('TOP 5 DIRECTORS BY NUMBER OF MOVIES DIRECTED')\n",
    "plt.show()"
   ]
  },
  {
   "cell_type": "code",
   "execution_count": 29,
   "id": "f20094fa",
   "metadata": {},
   "outputs": [],
   "source": [
    "df['Duration'] = df['Duration'].str.replace(r'min', '', regex=True).astype(int)"
   ]
  },
  {
   "cell_type": "code",
   "execution_count": 30,
   "id": "8c43fbd3",
   "metadata": {
    "scrolled": true
   },
   "outputs": [
    {
     "data": {
      "text/plain": [
       "(1        109.0\n",
       " 3        110.0\n",
       " 5        147.0\n",
       " 6        142.0\n",
       " 8         82.0\n",
       "          ...  \n",
       " 15493    115.0\n",
       " 15494    153.0\n",
       " 15503    125.0\n",
       " 15505    129.0\n",
       " 15508    130.0\n",
       " Name: Duration, Length: 5851, dtype: float64,\n",
       " 1           8.0\n",
       " 3          35.0\n",
       " 5         827.0\n",
       " 6        1086.0\n",
       " 8         326.0\n",
       "           ...  \n",
       " 15493     408.0\n",
       " 15494    1496.0\n",
       " 15503      44.0\n",
       " 15505     655.0\n",
       " 15508      20.0\n",
       " Name: Votes, Length: 5851, dtype: float64)"
      ]
     },
     "execution_count": 30,
     "metadata": {},
     "output_type": "execute_result"
    }
   ],
   "source": [
    "df['Duration']= df['Duration'].astype(float)\n",
    "df['Votes']= df['Votes'].astype(float)\n",
    "df['Duration'], df['Votes']"
   ]
  },
  {
   "cell_type": "code",
   "execution_count": 58,
   "id": "23b368e5",
   "metadata": {},
   "outputs": [],
   "source": [
    "x = df[['Year', 'Duration', 'Votes']]\n",
    "y = df['Rating']"
   ]
  },
  {
   "cell_type": "code",
   "execution_count": 59,
   "id": "554c9cca",
   "metadata": {},
   "outputs": [],
   "source": [
    "#Splitting the dataset into Training Set and Test Set\n",
    "\n",
    "from sklearn.model_selection import train_test_split\n",
    "x_train, x_test, y_train, y_test = train_test_split(x, y, test_size = 1/3, random_state = 0)"
   ]
  },
  {
   "cell_type": "code",
   "execution_count": 60,
   "id": "18d49a14",
   "metadata": {},
   "outputs": [
    {
     "data": {
      "text/html": [
       "<style>#sk-container-id-3 {color: black;}#sk-container-id-3 pre{padding: 0;}#sk-container-id-3 div.sk-toggleable {background-color: white;}#sk-container-id-3 label.sk-toggleable__label {cursor: pointer;display: block;width: 100%;margin-bottom: 0;padding: 0.3em;box-sizing: border-box;text-align: center;}#sk-container-id-3 label.sk-toggleable__label-arrow:before {content: \"▸\";float: left;margin-right: 0.25em;color: #696969;}#sk-container-id-3 label.sk-toggleable__label-arrow:hover:before {color: black;}#sk-container-id-3 div.sk-estimator:hover label.sk-toggleable__label-arrow:before {color: black;}#sk-container-id-3 div.sk-toggleable__content {max-height: 0;max-width: 0;overflow: hidden;text-align: left;background-color: #f0f8ff;}#sk-container-id-3 div.sk-toggleable__content pre {margin: 0.2em;color: black;border-radius: 0.25em;background-color: #f0f8ff;}#sk-container-id-3 input.sk-toggleable__control:checked~div.sk-toggleable__content {max-height: 200px;max-width: 100%;overflow: auto;}#sk-container-id-3 input.sk-toggleable__control:checked~label.sk-toggleable__label-arrow:before {content: \"▾\";}#sk-container-id-3 div.sk-estimator input.sk-toggleable__control:checked~label.sk-toggleable__label {background-color: #d4ebff;}#sk-container-id-3 div.sk-label input.sk-toggleable__control:checked~label.sk-toggleable__label {background-color: #d4ebff;}#sk-container-id-3 input.sk-hidden--visually {border: 0;clip: rect(1px 1px 1px 1px);clip: rect(1px, 1px, 1px, 1px);height: 1px;margin: -1px;overflow: hidden;padding: 0;position: absolute;width: 1px;}#sk-container-id-3 div.sk-estimator {font-family: monospace;background-color: #f0f8ff;border: 1px dotted black;border-radius: 0.25em;box-sizing: border-box;margin-bottom: 0.5em;}#sk-container-id-3 div.sk-estimator:hover {background-color: #d4ebff;}#sk-container-id-3 div.sk-parallel-item::after {content: \"\";width: 100%;border-bottom: 1px solid gray;flex-grow: 1;}#sk-container-id-3 div.sk-label:hover label.sk-toggleable__label {background-color: #d4ebff;}#sk-container-id-3 div.sk-serial::before {content: \"\";position: absolute;border-left: 1px solid gray;box-sizing: border-box;top: 0;bottom: 0;left: 50%;z-index: 0;}#sk-container-id-3 div.sk-serial {display: flex;flex-direction: column;align-items: center;background-color: white;padding-right: 0.2em;padding-left: 0.2em;position: relative;}#sk-container-id-3 div.sk-item {position: relative;z-index: 1;}#sk-container-id-3 div.sk-parallel {display: flex;align-items: stretch;justify-content: center;background-color: white;position: relative;}#sk-container-id-3 div.sk-item::before, #sk-container-id-3 div.sk-parallel-item::before {content: \"\";position: absolute;border-left: 1px solid gray;box-sizing: border-box;top: 0;bottom: 0;left: 50%;z-index: -1;}#sk-container-id-3 div.sk-parallel-item {display: flex;flex-direction: column;z-index: 1;position: relative;background-color: white;}#sk-container-id-3 div.sk-parallel-item:first-child::after {align-self: flex-end;width: 50%;}#sk-container-id-3 div.sk-parallel-item:last-child::after {align-self: flex-start;width: 50%;}#sk-container-id-3 div.sk-parallel-item:only-child::after {width: 0;}#sk-container-id-3 div.sk-dashed-wrapped {border: 1px dashed gray;margin: 0 0.4em 0.5em 0.4em;box-sizing: border-box;padding-bottom: 0.4em;background-color: white;}#sk-container-id-3 div.sk-label label {font-family: monospace;font-weight: bold;display: inline-block;line-height: 1.2em;}#sk-container-id-3 div.sk-label-container {text-align: center;}#sk-container-id-3 div.sk-container {/* jupyter's `normalize.less` sets `[hidden] { display: none; }` but bootstrap.min.css set `[hidden] { display: none !important; }` so we also need the `!important` here to be able to override the default hidden behavior on the sphinx rendered scikit-learn.org. See: https://github.com/scikit-learn/scikit-learn/issues/21755 */display: inline-block !important;position: relative;}#sk-container-id-3 div.sk-text-repr-fallback {display: none;}</style><div id=\"sk-container-id-3\" class=\"sk-top-container\"><div class=\"sk-text-repr-fallback\"><pre>LinearRegression()</pre><b>In a Jupyter environment, please rerun this cell to show the HTML representation or trust the notebook. <br />On GitHub, the HTML representation is unable to render, please try loading this page with nbviewer.org.</b></div><div class=\"sk-container\" hidden><div class=\"sk-item\"><div class=\"sk-estimator sk-toggleable\"><input class=\"sk-toggleable__control sk-hidden--visually\" id=\"sk-estimator-id-3\" type=\"checkbox\" checked><label for=\"sk-estimator-id-3\" class=\"sk-toggleable__label sk-toggleable__label-arrow\">LinearRegression</label><div class=\"sk-toggleable__content\"><pre>LinearRegression()</pre></div></div></div></div></div>"
      ],
      "text/plain": [
       "LinearRegression()"
      ]
     },
     "execution_count": 60,
     "metadata": {},
     "output_type": "execute_result"
    }
   ],
   "source": [
    "#Fitting simple linear regression to the training set\n",
    "\n",
    "from sklearn.linear_model import LinearRegression\n",
    "linr = LinearRegression()\n",
    "linr.fit(x_train, y_train)"
   ]
  },
  {
   "cell_type": "code",
   "execution_count": 61,
   "id": "fcaa65de",
   "metadata": {},
   "outputs": [
    {
     "name": "stdout",
     "output_type": "stream",
     "text": [
      "[6.52396189 6.70277615 5.73563457 ... 5.93026788 5.58916042 6.16590218]\n"
     ]
    }
   ],
   "source": [
    "#Predicting the test set result\n",
    "\n",
    "prediction = linr.predict(x_test)\n",
    "print(prediction)"
   ]
  },
  {
   "cell_type": "code",
   "execution_count": 62,
   "id": "44e1560b",
   "metadata": {},
   "outputs": [
    {
     "name": "stdout",
     "output_type": "stream",
     "text": [
      "3269     7.0\n",
      "14585    6.8\n",
      "5279     3.3\n",
      "3910     4.5\n",
      "7888     2.5\n",
      "        ... \n",
      "10606    7.8\n",
      "15403    3.2\n",
      "12072    7.2\n",
      "4132     5.3\n",
      "10106    4.7\n",
      "Name: Rating, Length: 1951, dtype: float64\n"
     ]
    }
   ],
   "source": [
    "print(y_test)"
   ]
  },
  {
   "cell_type": "code",
   "execution_count": 68,
   "id": "35415834",
   "metadata": {},
   "outputs": [
    {
     "name": "stdout",
     "output_type": "stream",
     "text": [
      "mae:  1.0473127369793893\n",
      "mse:  1.3569629325085377\n",
      "r-squared score:  0.02431494049175753\n"
     ]
    }
   ],
   "source": [
    "from sklearn import metrics\n",
    "mae = mean_absolute_error(y_test, prediction)\n",
    "mse = mean_squared_error(y_test, prediction, squared = False)\n",
    "r2 = r2_score(y_test, prediction)\n",
    "print(\"mae: \", mae)\n",
    "print(\"mse: \", mse)\n",
    "print(\"r-squared score: \", r2)"
   ]
  },
  {
   "cell_type": "code",
   "execution_count": 69,
   "id": "6bc35dae",
   "metadata": {},
   "outputs": [
    {
     "data": {
      "text/plain": [
       "<matplotlib.collections.PathCollection at 0x2258d16f410>"
      ]
     },
     "execution_count": 69,
     "metadata": {},
     "output_type": "execute_result"
    },
    {
     "data": {
      "image/png": "[encoded data removed]",
      "text/plain": [
       "<Figure size 640x480 with 1 Axes>"
      ]
     },
     "metadata": {},
     "output_type": "display_data"
    }
   ],
   "source": [
    "plt.scatter(y_test, prediction)"
   ]
  },
  {
   "cell_type": "code",
   "execution_count": null,
   "id": "b7e7c670",
   "metadata": {},
   "outputs": [],
   "source": []
  }
 ],
 "metadata": {
  "kernelspec": {
   "display_name": "Python 3 (ipykernel)",
   "language": "python",
   "name": "python3"
  },
  "language_info": {
   "codemirror_mode": {
    "name": "ipython",
    "version": 3
   },
   "file_extension": ".py",
   "mimetype": "text/x-python",
   "name": "python",
   "nbconvert_exporter": "python",
   "pygments_lexer": "ipython3",
   "version": "3.11.5"
  }
 },
 "nbformat": 4,
 "nbformat_minor": 5
}
